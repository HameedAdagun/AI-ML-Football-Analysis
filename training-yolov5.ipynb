{
 "cells": [
  {
   "cell_type": "code",
   "execution_count": 1,
   "id": "initial_id",
   "metadata": {
    "collapsed": true,
    "ExecuteTime": {
     "end_time": "2025-04-18T12:15:08.952766300Z",
     "start_time": "2025-04-18T12:14:55.505485700Z"
    }
   },
   "outputs": [
    {
     "name": "stdout",
     "output_type": "stream",
     "text": [
      "Collecting roboflow\n",
      "  Downloading roboflow-1.1.61-py3-none-any.whl (85 kB)\n",
      "     ---------------------------------------- 85.2/85.2 kB 1.6 MB/s eta 0:00:00\n",
      "Requirement already satisfied: six in c:\\users\\hamee\\pycharmprojects\\footballanalysis\\venv\\lib\\site-packages (from roboflow) (1.17.0)\n",
      "Collecting idna==3.7\n",
      "  Downloading idna-3.7-py3-none-any.whl (66 kB)\n",
      "     ---------------------------------------- 66.8/66.8 kB 3.5 MB/s eta 0:00:00\n",
      "Requirement already satisfied: python-dateutil in c:\\users\\hamee\\pycharmprojects\\footballanalysis\\venv\\lib\\site-packages (from roboflow) (2.9.0.post0)\n",
      "Requirement already satisfied: matplotlib in c:\\users\\hamee\\pycharmprojects\\footballanalysis\\venv\\lib\\site-packages (from roboflow) (3.10.1)\n",
      "Collecting filetype\n",
      "  Downloading filetype-1.2.0-py2.py3-none-any.whl (19 kB)\n",
      "Requirement already satisfied: Pillow>=7.1.2 in c:\\users\\hamee\\pycharmprojects\\footballanalysis\\venv\\lib\\site-packages (from roboflow) (11.2.1)\n",
      "Requirement already satisfied: tqdm>=4.41.0 in c:\\users\\hamee\\pycharmprojects\\footballanalysis\\venv\\lib\\site-packages (from roboflow) (4.67.1)\n",
      "Collecting pillow-heif>=0.18.0\n",
      "  Downloading pillow_heif-0.22.0-cp310-cp310-win_amd64.whl (8.6 MB)\n",
      "     ---------------------------------------- 8.6/8.6 MB 17.7 MB/s eta 0:00:00\n",
      "Collecting opencv-python-headless==4.10.0.84\n",
      "  Downloading opencv_python_headless-4.10.0.84-cp37-abi3-win_amd64.whl (38.8 MB)\n",
      "     --------------------------------------- 38.8/38.8 MB 17.2 MB/s eta 0:00:00\n",
      "Requirement already satisfied: kiwisolver>=1.3.1 in c:\\users\\hamee\\pycharmprojects\\footballanalysis\\venv\\lib\\site-packages (from roboflow) (1.4.8)\n",
      "Requirement already satisfied: certifi in c:\\users\\hamee\\pycharmprojects\\footballanalysis\\venv\\lib\\site-packages (from roboflow) (2025.1.31)\n",
      "Requirement already satisfied: cycler in c:\\users\\hamee\\pycharmprojects\\footballanalysis\\venv\\lib\\site-packages (from roboflow) (0.12.1)\n",
      "Requirement already satisfied: numpy>=1.18.5 in c:\\users\\hamee\\pycharmprojects\\footballanalysis\\venv\\lib\\site-packages (from roboflow) (2.1.1)\n",
      "Collecting requests-toolbelt\n",
      "  Downloading requests_toolbelt-1.0.0-py2.py3-none-any.whl (54 kB)\n",
      "     ---------------------------------------- 54.5/54.5 kB 2.8 MB/s eta 0:00:00\n",
      "Requirement already satisfied: PyYAML>=5.3.1 in c:\\users\\hamee\\pycharmprojects\\footballanalysis\\venv\\lib\\site-packages (from roboflow) (6.0.2)\n",
      "Requirement already satisfied: requests in c:\\users\\hamee\\pycharmprojects\\footballanalysis\\venv\\lib\\site-packages (from roboflow) (2.32.3)\n",
      "Requirement already satisfied: urllib3>=1.26.6 in c:\\users\\hamee\\pycharmprojects\\footballanalysis\\venv\\lib\\site-packages (from roboflow) (2.4.0)\n",
      "Collecting python-dotenv\n",
      "  Downloading python_dotenv-1.1.0-py3-none-any.whl (20 kB)\n",
      "Requirement already satisfied: colorama in c:\\users\\hamee\\pycharmprojects\\footballanalysis\\venv\\lib\\site-packages (from tqdm>=4.41.0->roboflow) (0.4.6)\n",
      "Requirement already satisfied: fonttools>=4.22.0 in c:\\users\\hamee\\pycharmprojects\\footballanalysis\\venv\\lib\\site-packages (from matplotlib->roboflow) (4.57.0)\n",
      "Requirement already satisfied: contourpy>=1.0.1 in c:\\users\\hamee\\pycharmprojects\\footballanalysis\\venv\\lib\\site-packages (from matplotlib->roboflow) (1.3.2)\n",
      "Requirement already satisfied: packaging>=20.0 in c:\\users\\hamee\\pycharmprojects\\footballanalysis\\venv\\lib\\site-packages (from matplotlib->roboflow) (24.2)\n",
      "Requirement already satisfied: pyparsing>=2.3.1 in c:\\users\\hamee\\pycharmprojects\\footballanalysis\\venv\\lib\\site-packages (from matplotlib->roboflow) (3.2.3)\n",
      "Requirement already satisfied: charset-normalizer<4,>=2 in c:\\users\\hamee\\pycharmprojects\\footballanalysis\\venv\\lib\\site-packages (from requests->roboflow) (3.4.1)\n",
      "Installing collected packages: filetype, python-dotenv, pillow-heif, opencv-python-headless, idna, requests-toolbelt, roboflow\n",
      "  Attempting uninstall: idna\n",
      "    Found existing installation: idna 3.10\n",
      "    Uninstalling idna-3.10:\n",
      "      Successfully uninstalled idna-3.10\n",
      "Successfully installed filetype-1.2.0 idna-3.7 opencv-python-headless-4.10.0.84 pillow-heif-0.22.0 python-dotenv-1.1.0 requests-toolbelt-1.0.0 roboflow-1.1.61\n"
     ]
    },
    {
     "name": "stderr",
     "output_type": "stream",
     "text": [
      "\n",
      "[notice] A new release of pip available: 22.3.1 -> 25.0.1\n",
      "[notice] To update, run: python.exe -m pip install --upgrade pip\n"
     ]
    }
   ],
   "source": [
    "!pip install roboflow"
   ]
  },
  {
   "cell_type": "code",
   "execution_count": 2,
   "outputs": [
    {
     "name": "stdout",
     "output_type": "stream",
     "text": [
      "loading Roboflow workspace...\n",
      "loading Roboflow project...\n"
     ]
    },
    {
     "name": "stderr",
     "output_type": "stream",
     "text": [
      "Downloading Dataset Version Zip in football-players-detection-1 to yolov5pytorch:: 100%|██████████| 148663/148663 [00:03<00:00, 37420.96it/s]"
     ]
    },
    {
     "name": "stdout",
     "output_type": "stream",
     "text": []
    },
    {
     "name": "stderr",
     "output_type": "stream",
     "text": [
      "\n",
      "Extracting Dataset Version Zip to football-players-detection-1 in yolov5pytorch:: 100%|██████████| 1338/1338 [00:03<00:00, 443.97it/s]\n"
     ]
    }
   ],
   "source": [
    "from roboflow import Roboflow\n",
    "rf = Roboflow(api_key=\"xDj38XbIVNLBACqNVOZu\")\n",
    "project = rf.workspace(\"roboflow-jvuqo\").project(\"football-players-detection-3zvbc\")\n",
    "version = project.version(1)\n",
    "dataset = version.download(\"yolov5\")\n",
    "                "
   ],
   "metadata": {
    "collapsed": false,
    "ExecuteTime": {
     "end_time": "2025-04-18T12:15:31.763605Z",
     "start_time": "2025-04-18T12:15:18.160615200Z"
    }
   },
   "id": "4a5ceeecaf74f2be"
  },
  {
   "cell_type": "code",
   "execution_count": 3,
   "outputs": [
    {
     "data": {
      "text/plain": "'C:\\\\Users\\\\hamee\\\\PycharmProjects\\\\FootballAnalysis\\\\football-players-detection-1'"
     },
     "execution_count": 3,
     "metadata": {},
     "output_type": "execute_result"
    }
   ],
   "source": [
    "dataset.location"
   ],
   "metadata": {
    "collapsed": false,
    "ExecuteTime": {
     "end_time": "2025-04-18T12:21:34.682441700Z",
     "start_time": "2025-04-18T12:21:34.618568800Z"
    }
   },
   "id": "1bc0c47117d7d602"
  },
  {
   "cell_type": "code",
   "execution_count": 4,
   "outputs": [
    {
     "data": {
      "text/plain": "'football-players-detection-1/football-players-detection-1/valid'"
     },
     "execution_count": 4,
     "metadata": {},
     "output_type": "execute_result"
    }
   ],
   "source": [
    "import shutil\n",
    "\n",
    "shutil.move('football-players-detection-1/train',\n",
    "            'football-players-detection-1/football-players-detection-1/train'\n",
    "            )\n",
    "\n",
    "shutil.move('football-players-detection-1/test',\n",
    "            'football-players-detection-1/football-players-detection-1/test'\n",
    "            )\n",
    "\n",
    "shutil.move('football-players-detection-1/valid',\n",
    "            'football-players-detection-1/football-players-detection-1/valid'\n",
    "            )"
   ],
   "metadata": {
    "collapsed": false,
    "ExecuteTime": {
     "end_time": "2025-04-18T12:21:52.333799700Z",
     "start_time": "2025-04-18T12:21:46.265933800Z"
    }
   },
   "id": "fade6d71a67c7dfd"
  },
  {
   "cell_type": "code",
   "execution_count": 6,
   "outputs": [],
   "source": [
    "import os\n",
    "\n",
    "current_dir = os.getcwd()"
   ],
   "metadata": {
    "collapsed": false,
    "ExecuteTime": {
     "end_time": "2025-04-18T12:35:33.766250Z",
     "start_time": "2025-04-18T12:35:33.748246800Z"
    }
   },
   "id": "32c1e741a5adee5d"
  },
  {
   "cell_type": "code",
   "execution_count": null,
   "outputs": [],
   "source": [
    "!yolo task=detect mode=train model=yolov5xu.pt data={dataset.location}/data.yaml epochs=100 imgsz=640 project=current_dir name = 'runs'"
   ],
   "metadata": {
    "collapsed": false,
    "is_executing": true,
    "ExecuteTime": {
     "start_time": "2025-04-18T12:45:25.825466500Z"
    }
   },
   "id": "e74a011c55277aea"
  },
  {
   "cell_type": "code",
   "execution_count": null,
   "outputs": [],
   "source": [],
   "metadata": {
    "collapsed": false
   },
   "id": "35ba1ecd503e4c10"
  }
 ],
 "metadata": {
  "kernelspec": {
   "display_name": "Python 3",
   "language": "python",
   "name": "python3"
  },
  "language_info": {
   "codemirror_mode": {
    "name": "ipython",
    "version": 2
   },
   "file_extension": ".py",
   "mimetype": "text/x-python",
   "name": "python",
   "nbconvert_exporter": "python",
   "pygments_lexer": "ipython2",
   "version": "2.7.6"
  }
 },
 "nbformat": 4,
 "nbformat_minor": 5
}
